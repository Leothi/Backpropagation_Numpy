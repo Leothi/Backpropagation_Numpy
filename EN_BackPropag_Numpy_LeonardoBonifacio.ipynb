{
 "cells": [
  {
   "cell_type": "markdown",
   "metadata": {},
   "source": [
    "## Backpropagation with numpy\n",
    "#### Author: Leonardo de Holanda Bonifácio (leohb2@gmail.com)"
   ]
  },
  {
   "cell_type": "code",
   "execution_count": 1,
   "metadata": {},
   "outputs": [],
   "source": [
    "import numpy as np"
   ]
  },
  {
   "cell_type": "markdown",
   "metadata": {},
   "source": [
    "Input and logic gates for training"
   ]
  },
  {
   "cell_type": "code",
   "execution_count": 2,
   "metadata": {},
   "outputs": [],
   "source": [
    "input_ = np.array([[0,0],\n",
    "                    [0,1],\n",
    "                    [1,0],\n",
    "                    [1,1]])\n",
    "\n",
    "target_AND = np.array([[0.0],\n",
    "                       [0.0],\n",
    "                       [0.0],\n",
    "                       [1.0]])\n",
    "\n",
    "target_OR = np.array([[0.0],\n",
    "                      [1.0],\n",
    "                      [1.0],\n",
    "                      [1.0]])\n",
    "\n",
    "target_XOR = np.array([[0.0],\n",
    "                       [1.0],\n",
    "                       [1.0],\n",
    "                       [0.0]])"
   ]
  },
  {
   "cell_type": "code",
   "execution_count": 3,
   "metadata": {},
   "outputs": [],
   "source": [
    "# Generate random weights for the layers\n",
    "def initialize_weights(input_size, hidden_size):\n",
    "    weights0 = np.random.random((hidden_size ,input_size)) \n",
    "    weights1 = np.random.random((input_size,1)) \n",
    "    \n",
    "    return weights0, weights1"
   ]
  },
  {
   "cell_type": "code",
   "execution_count": 4,
   "metadata": {},
   "outputs": [
    {
     "name": "stdout",
     "output_type": "stream",
     "text": [
      "[[0.18118771 0.45277076 0.10527868 0.07164529]\n",
      " [0.46292412 0.49967987 0.1092007  0.32796895]]\n",
      "\n",
      "[[0.17586765]\n",
      " [0.17254471]\n",
      " [0.76355443]\n",
      " [0.37186776]]\n"
     ]
    }
   ],
   "source": [
    "weights0, weights1 = initialize_weights(4,2)\n",
    "\n",
    "print(weights0)\n",
    "print()\n",
    "print(weights1)"
   ]
  },
  {
   "cell_type": "code",
   "execution_count": 5,
   "metadata": {},
   "outputs": [],
   "source": [
    "# Optional bias\n",
    "def create_bias():\n",
    "    bias = np.random.random()\n",
    "    \n",
    "    return bias"
   ]
  },
  {
   "cell_type": "code",
   "execution_count": 6,
   "metadata": {},
   "outputs": [
    {
     "data": {
      "text/plain": [
       "0.692928466778588"
      ]
     },
     "execution_count": 6,
     "metadata": {},
     "output_type": "execute_result"
    }
   ],
   "source": [
    "create_bias()"
   ]
  },
  {
   "cell_type": "code",
   "execution_count": 7,
   "metadata": {},
   "outputs": [],
   "source": [
    "# Error calculation\n",
    "def error(target, output):\n",
    "    return target - output"
   ]
  },
  {
   "cell_type": "code",
   "execution_count": 8,
   "metadata": {},
   "outputs": [],
   "source": [
    "# Sigmoid function. If derivative == True, returns the derivative of x.\n",
    "def sigmoid(x, derivative=False):\n",
    "\tif not derivative:\n",
    "\t\treturn 1 / (1 + np.exp (-x))\n",
    "\telse:\n",
    "\t\tout = sigmoid(x)\n",
    "\t\treturn out * (1 - out)"
   ]
  },
  {
   "cell_type": "markdown",
   "metadata": {},
   "source": [
    "### Methods and tests"
   ]
  },
  {
   "cell_type": "code",
   "execution_count": 9,
   "metadata": {},
   "outputs": [],
   "source": [
    "def training(input_, target, epochs, learning_rate, verbose = False):\n",
    "    weights0, weights1 = initialize_weights(4,2)\n",
    "    bias = 1 # Melhor valor verificado para a aplicação\n",
    "    loss_val = []\n",
    "    \n",
    "    for j in range(epochs+1):\n",
    "        # Forward \n",
    "        layer0 = input_ # Entrada\n",
    "        layer1 = sigmoid(np.dot(layer0, weights0) + bias) # Hidden \n",
    "        layer2 = sigmoid(np.dot(layer1, weights1) + bias) # Output\n",
    "        \n",
    "        # Backward\n",
    "        layer2_error = error(target, layer2)\n",
    "        layer2_delta = layer2_error*sigmoid(layer2, derivative=True)\n",
    "\n",
    "        layer1_error = layer2_delta.dot(weights1.T)    \n",
    "        layer1_delta= layer1_error * sigmoid(layer1,derivative=True)\n",
    "        \n",
    "        # Weights update\n",
    "        weights1 += layer1.T.dot(layer2_delta) * learning_rate\n",
    "        weights0 += layer0.T.dot(layer1_delta) * learning_rate        \n",
    "        \n",
    "        error_meansum = np.mean(np.abs(layer2_error))\n",
    "        error_meansum_str = str(round(np.mean(np.abs(layer2_error)),4))\n",
    "                               \n",
    "        loss_val.append(error_meansum)\n",
    "        \n",
    "        if (j% n_display) == 0: # Show progress\n",
    "            print (\"Loss (Mean Sum) in the iteration\", j,':', error_meansum_str)\n",
    "            if(verbose == True): # Ouput layer visualization\n",
    "                print(\"Ouput:\")\n",
    "                print(layer2)\n",
    "                print()\n",
    "                \n",
    "    return loss_val"
   ]
  },
  {
   "cell_type": "markdown",
   "metadata": {},
   "source": [
    "#### Tests"
   ]
  },
  {
   "cell_type": "code",
   "execution_count": 10,
   "metadata": {},
   "outputs": [],
   "source": [
    "epochs = 10000\n",
    "n_display = epochs/ 10 \n",
    "l_rate = 0.7"
   ]
  },
  {
   "cell_type": "code",
   "execution_count": 11,
   "metadata": {},
   "outputs": [
    {
     "name": "stdout",
     "output_type": "stream",
     "text": [
      "Loss (Mean Sum) in the iteration 0 : 0.7164\n",
      "Ouput:\n",
      "[[0.93167191]\n",
      " [0.94095602]\n",
      " [0.93962166]\n",
      " [0.94667901]]\n",
      "\n",
      "Loss (Mean Sum) in the iteration 1000 : 0.1995\n",
      "Ouput:\n",
      "[[2.79894973e-10]\n",
      " [2.55940928e-01]\n",
      " [2.56139834e-01]\n",
      " [7.14026480e-01]]\n",
      "\n",
      "Loss (Mean Sum) in the iteration 2000 : 0.1944\n",
      "Ouput:\n",
      "[[2.08123669e-14]\n",
      " [2.49303745e-01]\n",
      " [2.49384683e-01]\n",
      " [7.21050730e-01]]\n",
      "\n",
      "Loss (Mean Sum) in the iteration 3000 : 0.1926\n",
      "Ouput:\n",
      "[[1.22923559e-17]\n",
      " [2.46904878e-01]\n",
      " [2.46945483e-01]\n",
      " [7.23506344e-01]]\n",
      "\n",
      "Loss (Mean Sum) in the iteration 4000 : 0.1916\n",
      "Ouput:\n",
      "[[2.07303568e-20]\n",
      " [2.45625526e-01]\n",
      " [2.45647787e-01]\n",
      " [7.24804917e-01]]\n",
      "\n",
      "Loss (Mean Sum) in the iteration 5000 : 0.191\n",
      "Ouput:\n",
      "[[6.90546438e-23]\n",
      " [2.44812496e-01]\n",
      " [2.44825416e-01]\n",
      " [7.25626680e-01]]\n",
      "\n",
      "Loss (Mean Sum) in the iteration 6000 : 0.1906\n",
      "Ouput:\n",
      "[[3.76550540e-25]\n",
      " [2.44240360e-01]\n",
      " [2.44248200e-01]\n",
      " [7.26203307e-01]]\n",
      "\n",
      "Loss (Mean Sum) in the iteration 7000 : 0.1902\n",
      "Ouput:\n",
      "[[3.00260665e-27]\n",
      " [2.43810425e-01]\n",
      " [2.43815361e-01]\n",
      " [7.26635678e-01]]\n",
      "\n",
      "Loss (Mean Sum) in the iteration 8000 : 0.19\n",
      "Ouput:\n",
      "[[3.24940338e-29]\n",
      " [2.43472482e-01]\n",
      " [2.43475692e-01]\n",
      " [7.26974958e-01]]\n",
      "\n",
      "Loss (Mean Sum) in the iteration 9000 : 0.1898\n",
      "Ouput:\n",
      "[[4.52779451e-31]\n",
      " [2.43198110e-01]\n",
      " [2.43200257e-01]\n",
      " [7.27250045e-01]]\n",
      "\n",
      "Loss (Mean Sum) in the iteration 10000 : 0.1896\n",
      "Ouput:\n",
      "[[7.81425664e-33]\n",
      " [2.42969872e-01]\n",
      " [2.42971346e-01]\n",
      " [7.27478633e-01]]\n",
      "\n"
     ]
    }
   ],
   "source": [
    "# AND gate\n",
    "loss_AND = training(input_, target_AND, epochs, l_rate, verbose = True)"
   ]
  },
  {
   "cell_type": "code",
   "execution_count": 12,
   "metadata": {},
   "outputs": [
    {
     "name": "stdout",
     "output_type": "stream",
     "text": [
      "Loss (Mean Sum) in the iteration 0 : 0.2718\n",
      "Loss (Mean Sum) in the iteration 1000 : 0.0108\n",
      "Loss (Mean Sum) in the iteration 2000 : 0.0045\n",
      "Loss (Mean Sum) in the iteration 3000 : 0.0027\n",
      "Loss (Mean Sum) in the iteration 4000 : 0.0019\n",
      "Loss (Mean Sum) in the iteration 5000 : 0.0014\n",
      "Loss (Mean Sum) in the iteration 6000 : 0.0011\n",
      "Loss (Mean Sum) in the iteration 7000 : 0.0009\n",
      "Loss (Mean Sum) in the iteration 8000 : 0.0008\n",
      "Loss (Mean Sum) in the iteration 9000 : 0.0007\n",
      "Loss (Mean Sum) in the iteration 10000 : 0.0006\n"
     ]
    }
   ],
   "source": [
    "# OR gate\n",
    "loss_OR = training(input_, target_OR, epochs, l_rate)"
   ]
  },
  {
   "cell_type": "code",
   "execution_count": 13,
   "metadata": {},
   "outputs": [
    {
     "name": "stdout",
     "output_type": "stream",
     "text": [
      "Loss (Mean Sum) in the iteration 0 : 0.4985\n",
      "Loss (Mean Sum) in the iteration 1000 : 0.4889\n",
      "Loss (Mean Sum) in the iteration 2000 : 0.1459\n",
      "Loss (Mean Sum) in the iteration 3000 : 0.0571\n",
      "Loss (Mean Sum) in the iteration 4000 : 0.0489\n",
      "Loss (Mean Sum) in the iteration 5000 : 0.0529\n",
      "Loss (Mean Sum) in the iteration 6000 : 0.0478\n",
      "Loss (Mean Sum) in the iteration 7000 : 0.0352\n",
      "Loss (Mean Sum) in the iteration 8000 : 0.0264\n",
      "Loss (Mean Sum) in the iteration 9000 : 0.0208\n",
      "Loss (Mean Sum) in the iteration 10000 : 0.0171\n"
     ]
    }
   ],
   "source": [
    "# XOR gate\n",
    "loss_XOR = training(input_, target_XOR, epochs, l_rate)"
   ]
  },
  {
   "cell_type": "markdown",
   "metadata": {},
   "source": [
    "### Graphic Visualization"
   ]
  },
  {
   "cell_type": "code",
   "execution_count": 14,
   "metadata": {},
   "outputs": [
    {
     "data": {
      "text/plain": [
       "Text(0.5, 1.0, 'Loss function')"
      ]
     },
     "execution_count": 14,
     "metadata": {},
     "output_type": "execute_result"
    },
    {
     "data": {
      "image/png": "[encoded data removed]",
      "text/plain": [
       "<Figure size 432x288 with 1 Axes>"
      ]
     },
     "metadata": {
      "needs_background": "light"
     },
     "output_type": "display_data"
    }
   ],
   "source": [
    "import matplotlib.pyplot as plt\n",
    "%matplotlib inline\n",
    "\n",
    "plt.plot(loss_OR, label = 'Loss OR', color = 'red')\n",
    "plt.plot(loss_XOR, label = 'Loss XOR', color = 'blue')\n",
    "plt.plot(loss_AND, label = 'Loss AND', color = 'green')\n",
    "plt.legend()\n",
    "plt.xlabel('Epochs', size = 15)\n",
    "plt.ylabel('Value', size = 15)\n",
    "plt.title('Loss function', size = 20)"
   ]
  }
 ],
 "metadata": {
  "kernelspec": {
   "display_name": "Python 3",
   "language": "python",
   "name": "python3"
  },
  "language_info": {
   "codemirror_mode": {
    "name": "ipython",
    "version": 3
   },
   "file_extension": ".py",
   "mimetype": "text/x-python",
   "name": "python",
   "nbconvert_exporter": "python",
   "pygments_lexer": "ipython3",
   "version": "3.7.3"
  }
 },
 "nbformat": 4,
 "nbformat_minor": 2
}
