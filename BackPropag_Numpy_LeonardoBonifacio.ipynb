{
 "cells": [
  {
   "cell_type": "markdown",
   "metadata": {},
   "source": [
    "## Back propagation com numpy\n",
    "#### Autor: Leonardo de Holanda Bonifácio"
   ]
  },
  {
   "cell_type": "code",
   "execution_count": 1,
   "metadata": {},
   "outputs": [],
   "source": [
    "import numpy as np"
   ]
  },
  {
   "cell_type": "markdown",
   "metadata": {},
   "source": [
    "Entrada e portas lógicas para treinamento"
   ]
  },
  {
   "cell_type": "code",
   "execution_count": 2,
   "metadata": {},
   "outputs": [],
   "source": [
    "entrada = np.array([[0,0],\n",
    "                    [0,1],\n",
    "                    [1,0],\n",
    "                    [1,1]])\n",
    "\n",
    "target_AND = np.array([[0.0],\n",
    "                       [0.0],\n",
    "                       [0.0],\n",
    "                       [1.0]])\n",
    "\n",
    "target_OR = np.array([[0.0],\n",
    "                      [1.0],\n",
    "                      [1.0],\n",
    "                      [1.0]])\n",
    "\n",
    "target_XOR = np.array([[0.0],\n",
    "                       [1.0],\n",
    "                       [1.0],\n",
    "                       [0.0]])"
   ]
  },
  {
   "cell_type": "code",
   "execution_count": 3,
   "metadata": {},
   "outputs": [],
   "source": [
    "# Função generalizada para perceptron multi-camadas\n",
    "def inicializarPesos(tamanho_entrada, tamanho_oculta):\n",
    "    pesos0 = np.random.random((tamanho_oculta ,tamanho_entrada)) \n",
    "    pesos1 = np.random.random((tamanho_entrada,1)) \n",
    "    \n",
    "    return pesos0, pesos1"
   ]
  },
  {
   "cell_type": "code",
   "execution_count": 4,
   "metadata": {},
   "outputs": [
    {
     "name": "stdout",
     "output_type": "stream",
     "text": [
      "[[0.27567811 0.25365615 0.18174187 0.28387344]\n",
      " [0.78372748 0.82310875 0.41869097 0.28060321]]\n",
      "\n",
      "[[0.2513368 ]\n",
      " [0.53597916]\n",
      " [0.1461016 ]\n",
      " [0.38406282]]\n"
     ]
    }
   ],
   "source": [
    "pesos0, pesos1 = inicializarPesos(4,2)\n",
    "\n",
    "print(pesos0)\n",
    "print()\n",
    "print(pesos1)"
   ]
  },
  {
   "cell_type": "code",
   "execution_count": 5,
   "metadata": {},
   "outputs": [],
   "source": [
    "# Caso o usuário queira uma valor aleatório para o bias\n",
    "def inicializadorBias():\n",
    "    bias = np.random.random()\n",
    "    \n",
    "    return bias"
   ]
  },
  {
   "cell_type": "code",
   "execution_count": 6,
   "metadata": {},
   "outputs": [
    {
     "data": {
      "text/plain": [
       "0.17307321482856397"
      ]
     },
     "execution_count": 6,
     "metadata": {},
     "output_type": "execute_result"
    }
   ],
   "source": [
    "inicializadorBias()"
   ]
  },
  {
   "cell_type": "code",
   "execution_count": 7,
   "metadata": {},
   "outputs": [],
   "source": [
    "# Função para cálculo de erro\n",
    "def erro(target, saida):\n",
    "    return target - saida"
   ]
  },
  {
   "cell_type": "code",
   "execution_count": 8,
   "metadata": {},
   "outputs": [],
   "source": [
    "# Função sigmoid. Se derivada == True, retorna a derivada da função\n",
    "def sigmoid(x, derivada=False):\n",
    "\tif not derivada:\n",
    "\t\treturn 1 / (1 + np.exp (-x))\n",
    "\telse:\n",
    "\t\tout = sigmoid(x)\n",
    "\t\treturn out * (1 - out)"
   ]
  },
  {
   "cell_type": "markdown",
   "metadata": {},
   "source": [
    "### Método e testes"
   ]
  },
  {
   "cell_type": "code",
   "execution_count": 9,
   "metadata": {},
   "outputs": [],
   "source": [
    "def treinamento(entrada, target, epocas, learning_rate, verbose = False):\n",
    "    pesos0, pesos1 = inicializarPesos(4,2)\n",
    "    bias = 1 # Melhor valor verificado para a aplicação\n",
    "    custo_val = []\n",
    "    \n",
    "    for j in range(epocas+1):\n",
    "        # Sentido Foward\n",
    "        layer0 = entrada # Entrada\n",
    "        layer1 = sigmoid(np.dot(layer0, pesos0) + bias) # Oculta \n",
    "        layer2 = sigmoid(np.dot(layer1, pesos1) + bias) # Saída\n",
    "        \n",
    "        # Sentido Backward\n",
    "        layer2_error = erro(target, layer2)\n",
    "        layer2_delta = layer2_error*sigmoid(layer2, derivada=True)\n",
    "\n",
    "        layer1_error = layer2_delta.dot(pesos1.T)    \n",
    "        layer1_delta= layer1_error * sigmoid(layer1,derivada=True)\n",
    "        \n",
    "        # Atualização de pesos\n",
    "        pesos1 += layer1.T.dot(layer2_delta) * learning_rate\n",
    "        pesos0 += layer0.T.dot(layer1_delta) * learning_rate        \n",
    "        \n",
    "        erro_meansum = np.mean(np.abs(layer2_error))\n",
    "        erro_meansum_str = str(round(np.mean(np.abs(layer2_error)),4))\n",
    "                               \n",
    "        custo_val.append(erro_meansum)\n",
    "        \n",
    "        if (j% n_display) == 0: # Printa a cada n_display repetições\n",
    "            print (\"Erro (Mean Sum) na iteração\", j,':', erro_meansum_str)\n",
    "            if(verbose == True): # Caso queira visualizar a camada de saída\n",
    "                print(\"Saída:\")\n",
    "                print(layer2)\n",
    "                print()\n",
    "                \n",
    "    return custo_val"
   ]
  },
  {
   "cell_type": "markdown",
   "metadata": {},
   "source": [
    "#### Testes"
   ]
  },
  {
   "cell_type": "code",
   "execution_count": 10,
   "metadata": {},
   "outputs": [],
   "source": [
    "epocas = 10000\n",
    "n_display = epocas/ 10 \n",
    "l_rate = 0.7"
   ]
  },
  {
   "cell_type": "code",
   "execution_count": 11,
   "metadata": {},
   "outputs": [
    {
     "name": "stdout",
     "output_type": "stream",
     "text": [
      "Erro (Mean Sum) na iteração 0 : 0.686\n",
      "Saída:\n",
      "[[0.87113018]\n",
      " [0.87628627]\n",
      " [0.88140003]\n",
      " [0.88488261]]\n",
      "\n",
      "Erro (Mean Sum) na iteração 1000 : 0.1972\n",
      "Saída:\n",
      "[[1.24577052e-10]\n",
      " [2.52852301e-01]\n",
      " [2.52891770e-01]\n",
      " [7.16826496e-01]]\n",
      "\n",
      "Erro (Mean Sum) na iteração 2000 : 0.1936\n",
      "Saída:\n",
      "[[5.07419010e-15]\n",
      " [2.48244921e-01]\n",
      " [2.48252052e-01]\n",
      " [7.22041837e-01]]\n",
      "\n",
      "Erro (Mean Sum) na iteração 3000 : 0.1922\n",
      "Saída:\n",
      "[[2.09774750e-18]\n",
      " [2.46351858e-01]\n",
      " [2.46352871e-01]\n",
      " [7.24035543e-01]]\n",
      "\n",
      "Erro (Mean Sum) na iteração 4000 : 0.1913\n",
      "Saída:\n",
      "[[2.72221470e-21]\n",
      " [2.45261893e-01]\n",
      " [2.45261291e-01]\n",
      " [7.25157780e-01]]\n",
      "\n",
      "Erro (Mean Sum) na iteração 5000 : 0.1908\n",
      "Saída:\n",
      "[[7.26840715e-24]\n",
      " [2.44534525e-01]\n",
      " [2.44533494e-01]\n",
      " [7.25898565e-01]]\n",
      "\n",
      "Erro (Mean Sum) na iteração 6000 : 0.1904\n",
      "Saída:\n",
      "[[3.23609513e-26]\n",
      " [2.44006894e-01]\n",
      " [2.44005820e-01]\n",
      " [7.26432577e-01]]\n",
      "\n",
      "Erro (Mean Sum) na iteração 7000 : 0.1901\n",
      "Saída:\n",
      "[[2.12473722e-28]\n",
      " [2.43602986e-01]\n",
      " [2.43602008e-01]\n",
      " [7.26839754e-01]]\n",
      "\n",
      "Erro (Mean Sum) na iteração 8000 : 0.1899\n",
      "Saída:\n",
      "[[1.90038256e-30]\n",
      " [2.43281900e-01]\n",
      " [2.43281063e-01]\n",
      " [7.27162576e-01]]\n",
      "\n",
      "Erro (Mean Sum) na iteração 9000 : 0.1897\n",
      "Saída:\n",
      "[[2.19190761e-32]\n",
      " [2.43019397e-01]\n",
      " [2.43018712e-01]\n",
      " [7.27426005e-01]]\n",
      "\n",
      "Erro (Mean Sum) na iteração 10000 : 0.1895\n",
      "Saída:\n",
      "[[3.13296738e-34]\n",
      " [2.42800069e-01]\n",
      " [2.42799531e-01]\n",
      " [7.27645807e-01]]\n",
      "\n"
     ]
    }
   ],
   "source": [
    "# Execução para porta AND\n",
    "custo_AND = treinamento(entrada, target_AND, epocas, l_rate, verbose = True)"
   ]
  },
  {
   "cell_type": "code",
   "execution_count": 12,
   "metadata": {},
   "outputs": [
    {
     "name": "stdout",
     "output_type": "stream",
     "text": [
      "Erro (Mean Sum) na iteração 0 : 0.2846\n",
      "Erro (Mean Sum) na iteração 1000 : 0.0064\n",
      "Erro (Mean Sum) na iteração 2000 : 0.0028\n",
      "Erro (Mean Sum) na iteração 3000 : 0.0018\n",
      "Erro (Mean Sum) na iteração 4000 : 0.0013\n",
      "Erro (Mean Sum) na iteração 5000 : 0.0011\n",
      "Erro (Mean Sum) na iteração 6000 : 0.0009\n",
      "Erro (Mean Sum) na iteração 7000 : 0.0008\n",
      "Erro (Mean Sum) na iteração 8000 : 0.0007\n",
      "Erro (Mean Sum) na iteração 9000 : 0.0006\n",
      "Erro (Mean Sum) na iteração 10000 : 0.0005\n"
     ]
    }
   ],
   "source": [
    "# Execução para porta OR\n",
    "custo_OR = treinamento(entrada, target_OR, epocas, l_rate)"
   ]
  },
  {
   "cell_type": "code",
   "execution_count": 13,
   "metadata": {},
   "outputs": [
    {
     "name": "stdout",
     "output_type": "stream",
     "text": [
      "Erro (Mean Sum) na iteração 0 : 0.4986\n",
      "Erro (Mean Sum) na iteração 1000 : 0.4366\n",
      "Erro (Mean Sum) na iteração 2000 : 0.0724\n",
      "Erro (Mean Sum) na iteração 3000 : 0.0477\n",
      "Erro (Mean Sum) na iteração 4000 : 0.0398\n",
      "Erro (Mean Sum) na iteração 5000 : 0.0347\n",
      "Erro (Mean Sum) na iteração 6000 : 0.0283\n",
      "Erro (Mean Sum) na iteração 7000 : 0.0224\n",
      "Erro (Mean Sum) na iteração 8000 : 0.0179\n",
      "Erro (Mean Sum) na iteração 9000 : 0.0146\n",
      "Erro (Mean Sum) na iteração 10000 : 0.0122\n"
     ]
    }
   ],
   "source": [
    "# Execução para porta XOR\n",
    "custo_XOR = treinamento(entrada, target_XOR, epocas, l_rate)"
   ]
  },
  {
   "cell_type": "markdown",
   "metadata": {},
   "source": [
    "### Visualização gráfica da queda da função de custo"
   ]
  },
  {
   "cell_type": "code",
   "execution_count": 14,
   "metadata": {},
   "outputs": [
    {
     "data": {
      "text/plain": [
       "Text(0.5, 1.0, 'Descida da função de custo')"
      ]
     },
     "execution_count": 14,
     "metadata": {},
     "output_type": "execute_result"
    },
    {
     "data": {
      "image/png": "[encoded data removed]",
      "text/plain": [
       "<Figure size 432x288 with 1 Axes>"
      ]
     },
     "metadata": {
      "needs_background": "light"
     },
     "output_type": "display_data"
    }
   ],
   "source": [
    "import matplotlib.pyplot as plt\n",
    "%matplotlib inline\n",
    "\n",
    "plt.plot(custo_OR, label = 'Custo OR', color = 'red')\n",
    "plt.plot(custo_XOR, label = 'Custo XOR', color = 'blue')\n",
    "plt.plot(custo_AND, label = 'Custo AND', color = 'green')\n",
    "plt.legend()\n",
    "plt.xlabel('Épocas', size = 15)\n",
    "plt.ylabel('Valor', size = 15)\n",
    "plt.title('Descida da função de custo', size = 20)"
   ]
  }
 ],
 "metadata": {
  "kernelspec": {
   "display_name": "Python 3",
   "language": "python",
   "name": "python3"
  },
  "language_info": {
   "codemirror_mode": {
    "name": "ipython",
    "version": 3
   },
   "file_extension": ".py",
   "mimetype": "text/x-python",
   "name": "python",
   "nbconvert_exporter": "python",
   "pygments_lexer": "ipython3",
   "version": "3.6.8"
  }
 },
 "nbformat": 4,
 "nbformat_minor": 2
}
